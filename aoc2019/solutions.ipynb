{
 "cells": [
  {
   "cell_type": "code",
   "execution_count": 6,
   "metadata": {},
   "outputs": [],
   "source": [
    "import aoc2019 as aoc"
   ]
  },
  {
   "cell_type": "code",
   "execution_count": null,
   "metadata": {},
   "outputs": [],
   "source": [
    "path = \"input/day1.txt\"\n",
    "data = aoc.read_data(path)"
   ]
  },
  {
   "cell_type": "code",
   "execution_count": 7,
   "metadata": {},
   "outputs": [
    {
     "ename": "NameError",
     "evalue": "name 'fuel' is not defined",
     "output_type": "error",
     "traceback": [
      "\u001b[0;31m---------------------------------------------------------------------------\u001b[0m",
      "\u001b[0;31mNameError\u001b[0m                                 Traceback (most recent call last)",
      "\u001b[1;32m/Users/Soniam/Desktop/git/aoc2019/aoc2019/solutions.ipynb Cell 3'\u001b[0m in \u001b[0;36m<cell line: 1>\u001b[0;34m()\u001b[0m\n\u001b[0;32m----> <a href='vscode-notebook-cell:/Users/Soniam/Desktop/git/aoc2019/aoc2019/solutions.ipynb#ch0000002?line=0'>1</a>\u001b[0m \u001b[39msum\u001b[39;49m(fuel(x) \u001b[39mfor\u001b[39;49;00m x \u001b[39min\u001b[39;49;00m data)\n",
      "\u001b[1;32m/Users/Soniam/Desktop/git/aoc2019/aoc2019/solutions.ipynb Cell 3'\u001b[0m in \u001b[0;36m<genexpr>\u001b[0;34m(.0)\u001b[0m\n\u001b[0;32m----> <a href='vscode-notebook-cell:/Users/Soniam/Desktop/git/aoc2019/aoc2019/solutions.ipynb#ch0000002?line=0'>1</a>\u001b[0m \u001b[39msum\u001b[39m(fuel(x) \u001b[39mfor\u001b[39;00m x \u001b[39min\u001b[39;00m data)\n",
      "\u001b[0;31mNameError\u001b[0m: name 'fuel' is not defined"
     ]
    }
   ],
   "source": [
    "def fuel(x):\n",
    "    return (x // 3) - 2\n",
    "\n",
    "sum(fuel(x) for x in data)"
   ]
  }
 ],
 "metadata": {
  "kernelspec": {
   "display_name": "Python 3.10.5 ('aoc2019-OPROjxL9-py3.10')",
   "language": "python",
   "name": "python3"
  },
  "language_info": {
   "codemirror_mode": {
    "name": "ipython",
    "version": 3
   },
   "file_extension": ".py",
   "mimetype": "text/x-python",
   "name": "python",
   "nbconvert_exporter": "python",
   "pygments_lexer": "ipython3",
   "version": "3.10.5"
  },
  "orig_nbformat": 4,
  "vscode": {
   "interpreter": {
    "hash": "b2d294f7bed28e1c32e63346c011d86773754339d0f608ccc5f8ac1b26f41189"
   }
  }
 },
 "nbformat": 4,
 "nbformat_minor": 2
}
